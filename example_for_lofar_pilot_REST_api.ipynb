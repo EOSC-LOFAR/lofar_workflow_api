{
 "cells": [
  {
   "cell_type": "code",
   "execution_count": 12,
   "metadata": {},
   "outputs": [],
   "source": [
    "import requests\n",
    "import lxml.html\n",
    "import pprint\n",
    "\n",
    "from delete_database_entries import *"
   ]
  },
  {
   "cell_type": "markdown",
   "metadata": {},
   "source": [
    "## Note: start your local server!"
   ]
  },
  {
   "cell_type": "markdown",
   "metadata": {},
   "source": [
    "In the django project directory (where the manage.py file is located) type: \"python manage.py runserver\""
   ]
  },
  {
   "cell_type": "markdown",
   "metadata": {},
   "source": [
    "## Deleting all entries in the database to make a clean start"
   ]
  },
  {
   "cell_type": "markdown",
   "metadata": {},
   "source": [
    "To keep the database clean we delete all content first :O"
   ]
  },
  {
   "cell_type": "code",
   "execution_count": 13,
   "metadata": {},
   "outputs": [
    {
     "name": "stdout",
     "output_type": "stream",
     "text": [
      "Deleting: observations\n",
      "6\n",
      "7\n",
      "8\n",
      "Deleting: sessions\n",
      "Deleting: pipelineconfigurations\n",
      "5\n",
      "6\n"
     ]
    }
   ],
   "source": [
    "delete_models(\"observations\")\n",
    "delete_models(\"sessions\")\n",
    "delete_models(\"pipelineconfigurations\")"
   ]
  },
  {
   "cell_type": "markdown",
   "metadata": {},
   "source": [
    "## We first make an observation by posting it to the server"
   ]
  },
  {
   "cell_type": "markdown",
   "metadata": {},
   "source": [
    "You should imagine this observation object simply has a name and sort of an identifier that points to a database actually containing the observation data"
   ]
  },
  {
   "cell_type": "code",
   "execution_count": 14,
   "metadata": {},
   "outputs": [
    {
     "name": "stdout",
     "output_type": "stream",
     "text": [
      "Response code:  201\n",
      "{   'id': 9,\n",
      "    'name': 'pipodeclouwnnebula',\n",
      "    'some_identifier': 'a catalogue number of some kind'}\n"
     ]
    }
   ],
   "source": [
    "obs_name = \"pipodeclouwnnebula\"\n",
    "with requests.Session() as s:\n",
    "    response = s.post('http://localhost:8000/observations/', data={\"name\": obs_name, \"some_identifier\": \"a catalogue number of some kind\"})\n",
    "    print(\"Response code: \", response.status_code)\n",
    "    pp.pprint(response.json())\n",
    "    obs_id = response.json()[\"id\"]"
   ]
  },
  {
   "cell_type": "markdown",
   "metadata": {},
   "source": [
    "## Now we make a pipeline configuration object"
   ]
  },
  {
   "cell_type": "markdown",
   "metadata": {},
   "source": [
    "You should imagine this contains all the parameters for a specific pipeline that need to be set to run the pipeline"
   ]
  },
  {
   "cell_type": "code",
   "execution_count": 15,
   "metadata": {},
   "outputs": [
    {
     "name": "stdout",
     "output_type": "stream",
     "text": [
      "Response code:  201\n",
      "{   'id': 7,\n",
      "    'name': 'pipeline setup for clown nebula',\n",
      "    'some_setting_1': 1.5,\n",
      "    'some_setting_2': 3.6}\n"
     ]
    }
   ],
   "source": [
    "pipelineconf_name = \"pipeline setup for clown nebula\"\n",
    "with requests.Session() as s:\n",
    "    response = s.post('http://localhost:8000/pipelineconfigurations/', data={\"name\": pipelineconf_name, \"some_setting_1\": 1.5, \"some_setting_2\": 3.6 })\n",
    "    print(\"Response code: \", response.status_code)\n",
    "    pp.pprint(response.json())\n",
    "    pl_conf_id = response.json()[\"id\"]"
   ]
  },
  {
   "cell_type": "markdown",
   "metadata": {},
   "source": [
    "## We can now make a session object"
   ]
  },
  {
   "cell_type": "markdown",
   "metadata": {},
   "source": [
    "Here imagine that the session object is an object that will actually run your pipeline configuration on your data. It contains direct links (through primary keys) to an observation and pipelineconfiguration object"
   ]
  },
  {
   "cell_type": "code",
   "execution_count": 16,
   "metadata": {},
   "outputs": [
    {
     "name": "stdout",
     "output_type": "stream",
     "text": [
      "Response code:  201\n",
      "{   'date_created': '2018-05-16T08:55:55.273186Z',\n",
      "    'date_modified': '2018-05-16T08:55:55.273186Z',\n",
      "    'id': 6,\n",
      "    'name': 'run 1 for clown nebula',\n",
      "    'observation': 9,\n",
      "    'pipeline_conf': 7}\n"
     ]
    }
   ],
   "source": [
    "with requests.Session() as s:\n",
    "    response = s.post('http://localhost:8000/sessions/', data={\"name\": \"run 1 for clown nebula\", \"observation\": obs_id, \"pipeline_conf\": pl_conf_id })\n",
    "    print(\"Response code: \", response.status_code)\n",
    "    pp.pprint(response.json())"
   ]
  },
  {
   "cell_type": "markdown",
   "metadata": {},
   "source": [
    "## Now lets have a look at the content of the database through some get requests"
   ]
  },
  {
   "cell_type": "markdown",
   "metadata": {},
   "source": [
    "### Sessions:"
   ]
  },
  {
   "cell_type": "code",
   "execution_count": 17,
   "metadata": {},
   "outputs": [
    {
     "name": "stdout",
     "output_type": "stream",
     "text": [
      "[   {   'date_created': '2018-05-16T08:55:55.273186Z',\n",
      "        'date_modified': '2018-05-16T08:55:55.273186Z',\n",
      "        'id': 6,\n",
      "        'name': 'run 1 for clown nebula',\n",
      "        'observation': 9,\n",
      "        'pipeline_conf': 7}]\n"
     ]
    }
   ],
   "source": [
    "response = s.get('http://localhost:8000/sessions/')\n",
    "pp.pprint(response.json())"
   ]
  },
  {
   "cell_type": "markdown",
   "metadata": {},
   "source": [
    "### Observations:"
   ]
  },
  {
   "cell_type": "code",
   "execution_count": 18,
   "metadata": {},
   "outputs": [
    {
     "name": "stdout",
     "output_type": "stream",
     "text": [
      "[   {   'id': 9,\n",
      "        'name': 'pipodeclouwnnebula',\n",
      "        'some_identifier': 'a catalogue number of some kind'}]\n"
     ]
    }
   ],
   "source": [
    "response = s.get('http://localhost:8000/observations/')\n",
    "pp.pprint(response.json())"
   ]
  },
  {
   "cell_type": "markdown",
   "metadata": {},
   "source": [
    "### PipelineConfigurations: "
   ]
  },
  {
   "cell_type": "code",
   "execution_count": 19,
   "metadata": {},
   "outputs": [
    {
     "name": "stdout",
     "output_type": "stream",
     "text": [
      "[   {   'id': 7,\n",
      "        'name': 'pipeline setup for clown nebula',\n",
      "        'some_setting_1': 1.5,\n",
      "        'some_setting_2': 3.6}]\n"
     ]
    }
   ],
   "source": [
    "response = s.get('http://localhost:8000/pipelineconfigurations/')\n",
    "pp.pprint(response.json())"
   ]
  },
  {
   "cell_type": "code",
   "execution_count": null,
   "metadata": {},
   "outputs": [],
   "source": []
  }
 ],
 "metadata": {
  "kernelspec": {
   "display_name": "Python 3",
   "language": "python",
   "name": "python3"
  },
  "language_info": {
   "codemirror_mode": {
    "name": "ipython",
    "version": 3
   },
   "file_extension": ".py",
   "mimetype": "text/x-python",
   "name": "python",
   "nbconvert_exporter": "python",
   "pygments_lexer": "ipython3",
   "version": "3.6.5"
  }
 },
 "nbformat": 4,
 "nbformat_minor": 2
}
