{
 "cells": [
  {
   "cell_type": "code",
   "execution_count": 1,
   "metadata": {},
   "outputs": [],
   "source": [
    "import requests\n",
    "import lxml.html\n",
    "import pprint\n",
    "\n",
    "from delete_database_entries import *"
   ]
  },
  {
   "cell_type": "markdown",
   "metadata": {},
   "source": [
    "## Note: start your local server!"
   ]
  },
  {
   "cell_type": "markdown",
   "metadata": {},
   "source": [
    "In the django project directory (where the manage.py file is located) type: \"python manage.py runserver\""
   ]
  },
  {
   "cell_type": "markdown",
   "metadata": {},
   "source": [
    "## Deleting all entries in the database to make a clean start"
   ]
  },
  {
   "cell_type": "markdown",
   "metadata": {},
   "source": [
    "To keep the database clean we delete all content first :O"
   ]
  },
  {
   "cell_type": "code",
   "execution_count": 2,
   "metadata": {},
   "outputs": [
    {
     "name": "stdout",
     "output_type": "stream",
     "text": [
      "Deleting: sessions\n",
      "101\n"
     ]
    }
   ],
   "source": [
    "delete_models(\"sessions\")"
   ]
  },
  {
   "cell_type": "markdown",
   "metadata": {},
   "source": [
    "## You can get an overview of the installed pipelines and their configurations"
   ]
  },
  {
   "cell_type": "code",
   "execution_count": 14,
   "metadata": {},
   "outputs": [
    {
     "name": "stdout",
     "output_type": "stream",
     "text": [
      "[   'avg_freq_step',\n",
      "    'avg_time_step',\n",
      "    'do_demix',\n",
      "    'demix_freq_step',\n",
      "    'demix_time_step',\n",
      "    'demix_sources',\n",
      "    'select_nl',\n",
      "    'parset']\n"
     ]
    }
   ],
   "source": [
    "response = s.get('http://localhost:8000/pipelineschemas/')\n",
    "response_data = response.json()\n",
    "pp.pprint(response_data[\"pipelineschemas\"][\"LGPPP\"][\"schema\"][\"required\"])"
   ]
  },
  {
   "cell_type": "markdown",
   "metadata": {},
   "source": [
    "## We can make a session object"
   ]
  },
  {
   "cell_type": "markdown",
   "metadata": {},
   "source": [
    "Here imagine that the session object is an object that will actually run your pipeline configuration on your data."
   ]
  },
  {
   "cell_type": "code",
   "execution_count": 8,
   "metadata": {},
   "outputs": [],
   "source": [
    "data = {\n",
    "        \"email\": \"pipo@popo.com\",\n",
    "        \"description\": \"\",\n",
    "        \"pipeline\" : \"LGPPP\",\n",
    "        \"config\": \"{\\\"avg_freq_step\\\": 1, \\\"avg_time_step\\\": 1, \\\"do_demix\\\": 1, \\\"demix_freq_step\\\": 1, \\\"demix_time_step\\\": 1, \\\"demix_sources\\\": 1, \\\"select_nl\\\": 1,\\\"parset\\\": 1}\",\n",
    "        \"observation\": \"somenumber\",\n",
    "        }"
   ]
  },
  {
   "cell_type": "code",
   "execution_count": 9,
   "metadata": {},
   "outputs": [
    {
     "name": "stdout",
     "output_type": "stream",
     "text": [
      "Response code:  201\n",
      "{   'config': {   'avg_freq_step': 1,\n",
      "                  'avg_time_step': 1,\n",
      "                  'demix_freq_step': 1,\n",
      "                  'demix_sources': 1,\n",
      "                  'demix_time_step': 1,\n",
      "                  'do_demix': 1,\n",
      "                  'parset': 1,\n",
      "                  'select_nl': 1},\n",
      "    'date_created': '2018-07-02T12:35:29.501176Z',\n",
      "    'date_modified': '2018-07-02T12:35:29.658276Z',\n",
      "    'description': '',\n",
      "    'email': 'pipo@popo.com',\n",
      "    'id': 104,\n",
      "    'observation': 'somenumber',\n",
      "    'pipeline': 'LGPPP',\n",
      "    'pipeline_respone': 'pipeline response LGPPP',\n",
      "    'pipeline_version': '0.0',\n",
      "    'status': 'started'}\n"
     ]
    }
   ],
   "source": [
    "with requests.Session() as s:\n",
    "    response = s.post('http://localhost:8000/sessions/', data=data)\n",
    "    print(\"Response code: \", response.status_code)\n",
    "    pp.pprint(response.json())"
   ]
  },
  {
   "cell_type": "markdown",
   "metadata": {},
   "source": [
    "## Now lets have a look at the content of the database through some get requests"
   ]
  },
  {
   "cell_type": "markdown",
   "metadata": {},
   "source": [
    "### Sessions:"
   ]
  },
  {
   "cell_type": "code",
   "execution_count": 10,
   "metadata": {},
   "outputs": [
    {
     "name": "stdout",
     "output_type": "stream",
     "text": [
      "[   {   'config': {   'avg_freq_step': 1,\n",
      "                      'avg_time_step': 1,\n",
      "                      'demix_freq_step': 1,\n",
      "                      'demix_sources': 1,\n",
      "                      'demix_time_step': 1,\n",
      "                      'do_demix': 1,\n",
      "                      'parset': 1,\n",
      "                      'select_nl': 1},\n",
      "        'date_created': '2018-07-02T12:35:29.501176Z',\n",
      "        'date_modified': '2018-07-02T12:35:29.658276Z',\n",
      "        'description': '',\n",
      "        'email': 'pipo@popo.com',\n",
      "        'id': 104,\n",
      "        'observation': 'somenumber',\n",
      "        'pipeline': 'LGPPP',\n",
      "        'pipeline_respone': 'pipeline response LGPPP',\n",
      "        'pipeline_version': '0.0',\n",
      "        'status': 'started'}]\n"
     ]
    }
   ],
   "source": [
    "response = s.get('http://localhost:8000/sessions/')\n",
    "pp.pprint(response.json())"
   ]
  },
  {
   "cell_type": "code",
   "execution_count": null,
   "metadata": {},
   "outputs": [],
   "source": []
  }
 ],
 "metadata": {
  "kernelspec": {
   "display_name": "Python 3",
   "language": "python",
   "name": "python3"
  },
  "language_info": {
   "codemirror_mode": {
    "name": "ipython",
    "version": 3
   },
   "file_extension": ".py",
   "mimetype": "text/x-python",
   "name": "python",
   "nbconvert_exporter": "python",
   "pygments_lexer": "ipython3",
   "version": "3.6.5"
  }
 },
 "nbformat": 4,
 "nbformat_minor": 2
}
