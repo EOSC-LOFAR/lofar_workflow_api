{
 "cells": [
  {
   "cell_type": "code",
   "execution_count": 2,
   "metadata": {},
   "outputs": [],
   "source": [
    "import requests\n",
    "import lxml.html\n",
    "import pprint\n",
    "\n",
    "from delete_database_entries import *"
   ]
  },
  {
   "cell_type": "markdown",
   "metadata": {},
   "source": [
    "## Note: start your local server!"
   ]
  },
  {
   "cell_type": "markdown",
   "metadata": {},
   "source": [
    "In the django project directory (where the manage.py file is located) type: \"python manage.py runserver\""
   ]
  },
  {
   "cell_type": "markdown",
   "metadata": {},
   "source": [
    "## Deleting all entries in the database to make a clean start"
   ]
  },
  {
   "cell_type": "markdown",
   "metadata": {},
   "source": [
    "To keep the database clean we delete all content first :O"
   ]
  },
  {
   "cell_type": "code",
   "execution_count": 3,
   "metadata": {},
   "outputs": [
    {
     "name": "stdout",
     "output_type": "stream",
     "text": [
      "Deleting: sessions\n",
      "2\n"
     ]
    }
   ],
   "source": [
    "#delete_models(\"observations\")\n",
    "#delete_models(\"pipelineconfigurations\")\n",
    "delete_models(\"sessions\")"
   ]
  },
  {
   "cell_type": "markdown",
   "metadata": {},
   "source": [
    "## We can make a session object"
   ]
  },
  {
   "cell_type": "markdown",
   "metadata": {},
   "source": [
    "Here imagine that the session object is an object that will actually run your pipeline configuration on your data."
   ]
  },
  {
   "cell_type": "code",
   "execution_count": 6,
   "metadata": {},
   "outputs": [
    {
     "name": "stdout",
     "output_type": "stream",
     "text": [
      "Response code:  201\n",
      "{   'date_created': '2018-06-21T08:55:54.335291Z',\n",
      "    'date_modified': '2018-06-21T08:55:54.335291Z',\n",
      "    'id': 3,\n",
      "    'name': 'run 1 for clown nebula'}\n"
     ]
    }
   ],
   "source": [
    "with requests.Session() as s:\n",
    "    response = s.post('http://localhost:8000/sessions/', data={\"name\": \"run 1 for clown nebula\"})\n",
    "    print(\"Response code: \", response.status_code)\n",
    "    pp.pprint(response.json())"
   ]
  },
  {
   "cell_type": "markdown",
   "metadata": {},
   "source": [
    "## Now lets have a look at the content of the database through some get requests"
   ]
  },
  {
   "cell_type": "markdown",
   "metadata": {},
   "source": [
    "### Sessions:"
   ]
  },
  {
   "cell_type": "code",
   "execution_count": 7,
   "metadata": {},
   "outputs": [
    {
     "name": "stdout",
     "output_type": "stream",
     "text": [
      "[   {   'date_created': '2018-06-21T08:55:54.335291Z',\n",
      "        'date_modified': '2018-06-21T08:55:54.335291Z',\n",
      "        'id': 3,\n",
      "        'name': 'run 1 for clown nebula'}]\n"
     ]
    }
   ],
   "source": [
    "response = s.get('http://localhost:8000/sessions/')\n",
    "pp.pprint(response.json())"
   ]
  }
 ],
 "metadata": {
  "kernelspec": {
   "display_name": "Python 3",
   "language": "python",
   "name": "python3"
  },
  "language_info": {
   "codemirror_mode": {
    "name": "ipython",
    "version": 3
   },
   "file_extension": ".py",
   "mimetype": "text/x-python",
   "name": "python",
   "nbconvert_exporter": "python",
   "pygments_lexer": "ipython3",
   "version": "3.6.5"
  }
 },
 "nbformat": 4,
 "nbformat_minor": 2
}
